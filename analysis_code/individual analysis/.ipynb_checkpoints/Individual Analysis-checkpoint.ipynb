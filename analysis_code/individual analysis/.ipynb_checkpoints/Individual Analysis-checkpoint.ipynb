{
 "cells": [
  {
   "cell_type": "code",
   "execution_count": 2,
   "id": "dab24559",
   "metadata": {},
   "outputs": [],
   "source": [
    "import pandas as pd\n",
    "import numpy as np\n",
    "import matplotlib.pyplot as plt\n",
    "import os\n",
    "import seaborn as sns\n",
    "import scipy.io as sp\n",
    "import matplotlib.transforms as transforms"
   ]
  },
  {
   "cell_type": "markdown",
   "id": "85032f60",
   "metadata": {},
   "source": [
    "## Load Data"
   ]
  },
  {
   "cell_type": "code",
   "execution_count": 3,
   "id": "f4e68b2b",
   "metadata": {},
   "outputs": [],
   "source": [
    "QSS_nLLS = sp.loadmat(\"IndDat_int1_qq_nLLS.mat\")['nLLS'][0: 1162,:]\n",
    "QSS_MS = sp.loadmat(\"IndDat_int1_qq_Ms.mat\")['Ms_all'][0: 1162,:]"
   ]
  },
  {
   "cell_type": "code",
   "execution_count": 4,
   "id": "0bdf5266",
   "metadata": {},
   "outputs": [],
   "source": [
    "CSS_nLLS = sp.loadmat(\"IndDat_classical_nLLS.mat\")['nLLS'][0: 1162,:]\n",
    "CSS_MS = sp.loadmat(\"IndDat_classical_Ms.mat\")['Ms_all'][0: 1162,:]"
   ]
  },
  {
   "cell_type": "code",
   "execution_count": 5,
   "id": "21f17b32",
   "metadata": {},
   "outputs": [],
   "source": [
    "data = sp.loadmat(\"indDat.mat\")['Rdat'][0:1162, :]"
   ]
  },
  {
   "cell_type": "code",
   "execution_count": 7,
   "id": "09a298c8",
   "metadata": {},
   "outputs": [
    {
     "data": {
      "text/plain": [
       "array([   3,   21,  131,  185,  196,  216,  224,  239,  245,  255,  261,\n",
       "        301,  350,  353,  357,  381,  389,  416,  417,  467,  513,  545,\n",
       "        553,  560,  566,  598,  652,  673,  696,  749,  754,  768,  769,\n",
       "        841,  873,  888,  927,  932,  953,  959,  963,  987, 1000, 1006,\n",
       "       1018, 1038, 1088, 1092, 1107, 1118, 1126, 1131, 1152, 1156],\n",
       "      dtype=uint16)"
      ]
     },
     "execution_count": 7,
     "metadata": {},
     "output_type": "execute_result"
    }
   ],
   "source": [
    "g_20_p = sp.loadmat(\"g_20_participant.mat\")['participant_list'][0:1162]\n",
    "g_20_p = g_20_p.flatten()\n",
    "g_20_p"
   ]
  },
  {
   "cell_type": "markdown",
   "id": "a2ae2949",
   "metadata": {},
   "source": [
    "# Participant Plots"
   ]
  },
  {
   "cell_type": "markdown",
   "id": "f1d6e7c2",
   "metadata": {},
   "source": [
    "Participants are chosen by inspecting the representativeness of their empirical data, and the difference between the CSS and QSS G square fit (we only select those with large G square improvement from quantum interference). "
   ]
  },
  {
   "cell_type": "markdown",
   "id": "6fdc753c",
   "metadata": {},
   "source": [
    "# Participant 215"
   ]
  },
  {
   "cell_type": "code",
   "execution_count": 5,
   "id": "98e7c3d5",
   "metadata": {
    "scrolled": true
   },
   "outputs": [
    {
     "data": {
      "text/plain": [
       "array([24.42851493])"
      ]
     },
     "execution_count": 5,
     "metadata": {},
     "output_type": "execute_result"
    }
   ],
   "source": [
    "nLLS_diff_215 = CSS_nLLS[215] - QSS_nLLS[215]\n",
    "nLLS_diff_215"
   ]
  },
  {
   "cell_type": "code",
   "execution_count": 6,
   "id": "686302b7",
   "metadata": {},
   "outputs": [
    {
     "data": {
      "text/html": [
       "<div>\n",
       "<style scoped>\n",
       "    .dataframe tbody tr th:only-of-type {\n",
       "        vertical-align: middle;\n",
       "    }\n",
       "\n",
       "    .dataframe tbody tr th {\n",
       "        vertical-align: top;\n",
       "    }\n",
       "\n",
       "    .dataframe thead th {\n",
       "        text-align: right;\n",
       "    }\n",
       "</style>\n",
       "<table border=\"1\" class=\"dataframe\">\n",
       "  <thead>\n",
       "    <tr style=\"text-align: right;\">\n",
       "      <th></th>\n",
       "      <th>values</th>\n",
       "      <th>type</th>\n",
       "    </tr>\n",
       "  </thead>\n",
       "  <tbody>\n",
       "    <tr>\n",
       "      <th>0</th>\n",
       "      <td>0.000000</td>\n",
       "      <td>judgment</td>\n",
       "    </tr>\n",
       "    <tr>\n",
       "      <th>1</th>\n",
       "      <td>0.000000</td>\n",
       "      <td>judgment</td>\n",
       "    </tr>\n",
       "    <tr>\n",
       "      <th>2</th>\n",
       "      <td>0.000000</td>\n",
       "      <td>judgment</td>\n",
       "    </tr>\n",
       "    <tr>\n",
       "      <th>3</th>\n",
       "      <td>100.000000</td>\n",
       "      <td>judgment</td>\n",
       "    </tr>\n",
       "    <tr>\n",
       "      <th>4</th>\n",
       "      <td>100.000000</td>\n",
       "      <td>judgment</td>\n",
       "    </tr>\n",
       "    <tr>\n",
       "      <th>...</th>\n",
       "      <td>...</td>\n",
       "      <td>...</td>\n",
       "    </tr>\n",
       "    <tr>\n",
       "      <th>229</th>\n",
       "      <td>54.941893</td>\n",
       "      <td>classical</td>\n",
       "    </tr>\n",
       "    <tr>\n",
       "      <th>230</th>\n",
       "      <td>45.992037</td>\n",
       "      <td>classical</td>\n",
       "    </tr>\n",
       "    <tr>\n",
       "      <th>231</th>\n",
       "      <td>54.941899</td>\n",
       "      <td>classical</td>\n",
       "    </tr>\n",
       "    <tr>\n",
       "      <th>232</th>\n",
       "      <td>45.992031</td>\n",
       "      <td>classical</td>\n",
       "    </tr>\n",
       "    <tr>\n",
       "      <th>233</th>\n",
       "      <td>56.679017</td>\n",
       "      <td>classical</td>\n",
       "    </tr>\n",
       "  </tbody>\n",
       "</table>\n",
       "<p>234 rows × 2 columns</p>\n",
       "</div>"
      ],
      "text/plain": [
       "         values       type\n",
       "0      0.000000   judgment\n",
       "1      0.000000   judgment\n",
       "2      0.000000   judgment\n",
       "3    100.000000   judgment\n",
       "4    100.000000   judgment\n",
       "..          ...        ...\n",
       "229   54.941893  classical\n",
       "230   45.992037  classical\n",
       "231   54.941899  classical\n",
       "232   45.992031  classical\n",
       "233   56.679017  classical\n",
       "\n",
       "[234 rows x 2 columns]"
      ]
     },
     "execution_count": 6,
     "metadata": {},
     "output_type": "execute_result"
    }
   ],
   "source": [
    "participant_215 = {\"values\":list(np.append(data[215,:],np.append(QSS_MS[215,:], CSS_MS[215,:]))), \n",
    "                   \"type\":list(np.append([\"judgment\"]*78,np.append([\"quantum\"]*78, [\"classical\"]*78)))}\n",
    "participant_215 = pd.DataFrame(participant_215)\n",
    "participant_215"
   ]
  },
  {
   "cell_type": "code",
   "execution_count": 14,
   "id": "b129fe46",
   "metadata": {},
   "outputs": [
    {
     "data": {
      "image/png": "[encoded data removed]",
      "text/plain": [
       "<Figure size 444x360 with 1 Axes>"
      ]
     },
     "metadata": {
      "needs_background": "light"
     },
     "output_type": "display_data"
    }
   ],
   "source": [
    "sns.displot(participant_215, x = \"values\", hue = \"type\", kind = \"kde\")._legend.remove()\n",
    "plt.grid()\n",
    "plt.title(\"Participant 215\")\n",
    "plt.xlabel(\"All Judgments\")\n",
    "plt.legend([\"classical\",\"quantum\",\"data\"], frameon=True)\n",
    "plt.savefig(\"participant215_plot.jpg\", dpi = 500, bbox_inches=\"tight\")"
   ]
  },
  {
   "cell_type": "markdown",
   "id": "9ecfcc49",
   "metadata": {},
   "source": [
    "# Participant 872"
   ]
  },
  {
   "cell_type": "code",
   "execution_count": 8,
   "id": "48c04a45",
   "metadata": {},
   "outputs": [
    {
     "data": {
      "text/plain": [
       "array([28.3899815])"
      ]
     },
     "execution_count": 8,
     "metadata": {},
     "output_type": "execute_result"
    }
   ],
   "source": [
    "nLLS_diff_872 = CSS_nLLS[872] - QSS_nLLS[872]\n",
    "nLLS_diff_872"
   ]
  },
  {
   "cell_type": "code",
   "execution_count": 9,
   "id": "a85ac7bc",
   "metadata": {},
   "outputs": [
    {
     "data": {
      "text/html": [
       "<div>\n",
       "<style scoped>\n",
       "    .dataframe tbody tr th:only-of-type {\n",
       "        vertical-align: middle;\n",
       "    }\n",
       "\n",
       "    .dataframe tbody tr th {\n",
       "        vertical-align: top;\n",
       "    }\n",
       "\n",
       "    .dataframe thead th {\n",
       "        text-align: right;\n",
       "    }\n",
       "</style>\n",
       "<table border=\"1\" class=\"dataframe\">\n",
       "  <thead>\n",
       "    <tr style=\"text-align: right;\">\n",
       "      <th></th>\n",
       "      <th>values</th>\n",
       "      <th>type</th>\n",
       "    </tr>\n",
       "  </thead>\n",
       "  <tbody>\n",
       "    <tr>\n",
       "      <th>0</th>\n",
       "      <td>80.000000</td>\n",
       "      <td>judgment</td>\n",
       "    </tr>\n",
       "    <tr>\n",
       "      <th>1</th>\n",
       "      <td>85.000000</td>\n",
       "      <td>judgment</td>\n",
       "    </tr>\n",
       "    <tr>\n",
       "      <th>2</th>\n",
       "      <td>30.000000</td>\n",
       "      <td>judgment</td>\n",
       "    </tr>\n",
       "    <tr>\n",
       "      <th>3</th>\n",
       "      <td>20.000000</td>\n",
       "      <td>judgment</td>\n",
       "    </tr>\n",
       "    <tr>\n",
       "      <th>4</th>\n",
       "      <td>10.000000</td>\n",
       "      <td>judgment</td>\n",
       "    </tr>\n",
       "    <tr>\n",
       "      <th>...</th>\n",
       "      <td>...</td>\n",
       "      <td>...</td>\n",
       "    </tr>\n",
       "    <tr>\n",
       "      <th>229</th>\n",
       "      <td>61.335098</td>\n",
       "      <td>classical</td>\n",
       "    </tr>\n",
       "    <tr>\n",
       "      <th>230</th>\n",
       "      <td>39.134828</td>\n",
       "      <td>classical</td>\n",
       "    </tr>\n",
       "    <tr>\n",
       "      <th>231</th>\n",
       "      <td>61.336059</td>\n",
       "      <td>classical</td>\n",
       "    </tr>\n",
       "    <tr>\n",
       "      <th>232</th>\n",
       "      <td>39.133859</td>\n",
       "      <td>classical</td>\n",
       "    </tr>\n",
       "    <tr>\n",
       "      <th>233</th>\n",
       "      <td>61.335907</td>\n",
       "      <td>classical</td>\n",
       "    </tr>\n",
       "  </tbody>\n",
       "</table>\n",
       "<p>234 rows × 2 columns</p>\n",
       "</div>"
      ],
      "text/plain": [
       "        values       type\n",
       "0    80.000000   judgment\n",
       "1    85.000000   judgment\n",
       "2    30.000000   judgment\n",
       "3    20.000000   judgment\n",
       "4    10.000000   judgment\n",
       "..         ...        ...\n",
       "229  61.335098  classical\n",
       "230  39.134828  classical\n",
       "231  61.336059  classical\n",
       "232  39.133859  classical\n",
       "233  61.335907  classical\n",
       "\n",
       "[234 rows x 2 columns]"
      ]
     },
     "execution_count": 9,
     "metadata": {},
     "output_type": "execute_result"
    }
   ],
   "source": [
    "participant_872 = {\"values\":list(np.append(data[872,:],np.append(QSS_MS[872,:], CSS_MS[872,:]))), \n",
    "                   \"type\":list(np.append([\"judgment\"]*78,np.append([\"quantum\"]*78, [\"classical\"]*78)))}\n",
    "participant_872 = pd.DataFrame(participant_872)\n",
    "participant_872"
   ]
  },
  {
   "cell_type": "code",
   "execution_count": 10,
   "id": "40e314a1",
   "metadata": {},
   "outputs": [
    {
     "data": {
      "image/png": "[encoded data removed]",
      "text/plain": [
       "<Figure size 444x360 with 1 Axes>"
      ]
     },
     "metadata": {
      "needs_background": "light"
     },
     "output_type": "display_data"
    }
   ],
   "source": [
    "sns.displot(participant_872, x = \"values\", hue = \"type\", kind = \"kde\")._legend.remove()\n",
    "plt.grid()\n",
    "plt.title(\"Participant 872\")\n",
    "plt.xlabel(\"All Judgments\")\n",
    "plt.legend([\"classical\",\"quantum\",\"data\"], frameon=True)\n",
    "plt.savefig(\"participant_872_plot.jpg\", bbox_inches=\"tight\", dpi = 500)"
   ]
  },
  {
   "cell_type": "markdown",
   "id": "43faa1cf",
   "metadata": {},
   "source": [
    "# Classical Participant - Participant 1098"
   ]
  },
  {
   "cell_type": "code",
   "execution_count": 11,
   "id": "8e388d8d",
   "metadata": {},
   "outputs": [
    {
     "data": {
      "text/plain": [
       "array([0.])"
      ]
     },
     "execution_count": 11,
     "metadata": {},
     "output_type": "execute_result"
    }
   ],
   "source": [
    "nLLS_diff_1098 = CSS_nLLS[1098] - QSS_nLLS[1098]\n",
    "nLLS_diff_1098"
   ]
  },
  {
   "cell_type": "code",
   "execution_count": 12,
   "id": "af81a97f",
   "metadata": {},
   "outputs": [
    {
     "data": {
      "text/html": [
       "<div>\n",
       "<style scoped>\n",
       "    .dataframe tbody tr th:only-of-type {\n",
       "        vertical-align: middle;\n",
       "    }\n",
       "\n",
       "    .dataframe tbody tr th {\n",
       "        vertical-align: top;\n",
       "    }\n",
       "\n",
       "    .dataframe thead th {\n",
       "        text-align: right;\n",
       "    }\n",
       "</style>\n",
       "<table border=\"1\" class=\"dataframe\">\n",
       "  <thead>\n",
       "    <tr style=\"text-align: right;\">\n",
       "      <th></th>\n",
       "      <th>values</th>\n",
       "      <th>type</th>\n",
       "    </tr>\n",
       "  </thead>\n",
       "  <tbody>\n",
       "    <tr>\n",
       "      <th>0</th>\n",
       "      <td>95.000000</td>\n",
       "      <td>judgment</td>\n",
       "    </tr>\n",
       "    <tr>\n",
       "      <th>1</th>\n",
       "      <td>85.000000</td>\n",
       "      <td>judgment</td>\n",
       "    </tr>\n",
       "    <tr>\n",
       "      <th>2</th>\n",
       "      <td>35.000000</td>\n",
       "      <td>judgment</td>\n",
       "    </tr>\n",
       "    <tr>\n",
       "      <th>3</th>\n",
       "      <td>10.000000</td>\n",
       "      <td>judgment</td>\n",
       "    </tr>\n",
       "    <tr>\n",
       "      <th>4</th>\n",
       "      <td>15.000000</td>\n",
       "      <td>judgment</td>\n",
       "    </tr>\n",
       "    <tr>\n",
       "      <th>...</th>\n",
       "      <td>...</td>\n",
       "      <td>...</td>\n",
       "    </tr>\n",
       "    <tr>\n",
       "      <th>151</th>\n",
       "      <td>17.929725</td>\n",
       "      <td>classical</td>\n",
       "    </tr>\n",
       "    <tr>\n",
       "      <th>152</th>\n",
       "      <td>86.115038</td>\n",
       "      <td>classical</td>\n",
       "    </tr>\n",
       "    <tr>\n",
       "      <th>153</th>\n",
       "      <td>36.645597</td>\n",
       "      <td>classical</td>\n",
       "    </tr>\n",
       "    <tr>\n",
       "      <th>154</th>\n",
       "      <td>68.076395</td>\n",
       "      <td>classical</td>\n",
       "    </tr>\n",
       "    <tr>\n",
       "      <th>155</th>\n",
       "      <td>68.101876</td>\n",
       "      <td>classical</td>\n",
       "    </tr>\n",
       "  </tbody>\n",
       "</table>\n",
       "<p>156 rows × 2 columns</p>\n",
       "</div>"
      ],
      "text/plain": [
       "        values       type\n",
       "0    95.000000   judgment\n",
       "1    85.000000   judgment\n",
       "2    35.000000   judgment\n",
       "3    10.000000   judgment\n",
       "4    15.000000   judgment\n",
       "..         ...        ...\n",
       "151  17.929725  classical\n",
       "152  86.115038  classical\n",
       "153  36.645597  classical\n",
       "154  68.076395  classical\n",
       "155  68.101876  classical\n",
       "\n",
       "[156 rows x 2 columns]"
      ]
     },
     "execution_count": 12,
     "metadata": {},
     "output_type": "execute_result"
    }
   ],
   "source": [
    "participant_1098 = {\"values\":list(np.append(data[1098,:],CSS_MS[1098,:])), \n",
    "                   \"type\":list(np.append([\"judgment\"]*78, [\"classical\"]*78))}\n",
    "participant_1098 = pd.DataFrame(participant_1098)\n",
    "participant_1098"
   ]
  },
  {
   "cell_type": "code",
   "execution_count": 13,
   "id": "1020b5a3",
   "metadata": {},
   "outputs": [
    {
     "data": {
      "image/png": "[encoded data removed]",
      "text/plain": [
       "<Figure size 444x360 with 1 Axes>"
      ]
     },
     "metadata": {
      "needs_background": "light"
     },
     "output_type": "display_data"
    }
   ],
   "source": [
    "sns.displot(participant_1098, x = \"values\", hue = \"type\", kind = \"kde\")._legend.remove()\n",
    "plt.grid()\n",
    "plt.title(\"Participant 1098\")\n",
    "plt.xlabel(\"All Judgments\")\n",
    "plt.legend([\"classical\",\"data\"], frameon=True)\n",
    "plt.savefig(\"participant_1098_plot.jpg\", dpi = 500, bbox_inches=\"tight\")"
   ]
  },
  {
   "cell_type": "markdown",
   "id": "7bdbff59",
   "metadata": {},
   "source": [
    "# Participant 215"
   ]
  },
  {
   "cell_type": "code",
   "execution_count": 5,
   "id": "497229fb",
   "metadata": {
    "scrolled": true
   },
   "outputs": [
    {
     "data": {
      "text/plain": [
       "array([24.42851493])"
      ]
     },
     "execution_count": 5,
     "metadata": {},
     "output_type": "execute_result"
    }
   ],
   "source": [
    "nLLS_diff_215 = CSS_nLLS[215] - QSS_nLLS[215]\n",
    "nLLS_diff_215"
   ]
  },
  {
   "cell_type": "code",
   "execution_count": 6,
   "id": "aede0268",
   "metadata": {},
   "outputs": [
    {
     "data": {
      "text/html": [
       "<div>\n",
       "<style scoped>\n",
       "    .dataframe tbody tr th:only-of-type {\n",
       "        vertical-align: middle;\n",
       "    }\n",
       "\n",
       "    .dataframe tbody tr th {\n",
       "        vertical-align: top;\n",
       "    }\n",
       "\n",
       "    .dataframe thead th {\n",
       "        text-align: right;\n",
       "    }\n",
       "</style>\n",
       "<table border=\"1\" class=\"dataframe\">\n",
       "  <thead>\n",
       "    <tr style=\"text-align: right;\">\n",
       "      <th></th>\n",
       "      <th>values</th>\n",
       "      <th>type</th>\n",
       "    </tr>\n",
       "  </thead>\n",
       "  <tbody>\n",
       "    <tr>\n",
       "      <th>0</th>\n",
       "      <td>0.000000</td>\n",
       "      <td>judgment</td>\n",
       "    </tr>\n",
       "    <tr>\n",
       "      <th>1</th>\n",
       "      <td>0.000000</td>\n",
       "      <td>judgment</td>\n",
       "    </tr>\n",
       "    <tr>\n",
       "      <th>2</th>\n",
       "      <td>0.000000</td>\n",
       "      <td>judgment</td>\n",
       "    </tr>\n",
       "    <tr>\n",
       "      <th>3</th>\n",
       "      <td>100.000000</td>\n",
       "      <td>judgment</td>\n",
       "    </tr>\n",
       "    <tr>\n",
       "      <th>4</th>\n",
       "      <td>100.000000</td>\n",
       "      <td>judgment</td>\n",
       "    </tr>\n",
       "    <tr>\n",
       "      <th>...</th>\n",
       "      <td>...</td>\n",
       "      <td>...</td>\n",
       "    </tr>\n",
       "    <tr>\n",
       "      <th>229</th>\n",
       "      <td>54.941893</td>\n",
       "      <td>classical</td>\n",
       "    </tr>\n",
       "    <tr>\n",
       "      <th>230</th>\n",
       "      <td>45.992037</td>\n",
       "      <td>classical</td>\n",
       "    </tr>\n",
       "    <tr>\n",
       "      <th>231</th>\n",
       "      <td>54.941899</td>\n",
       "      <td>classical</td>\n",
       "    </tr>\n",
       "    <tr>\n",
       "      <th>232</th>\n",
       "      <td>45.992031</td>\n",
       "      <td>classical</td>\n",
       "    </tr>\n",
       "    <tr>\n",
       "      <th>233</th>\n",
       "      <td>56.679017</td>\n",
       "      <td>classical</td>\n",
       "    </tr>\n",
       "  </tbody>\n",
       "</table>\n",
       "<p>234 rows × 2 columns</p>\n",
       "</div>"
      ],
      "text/plain": [
       "         values       type\n",
       "0      0.000000   judgment\n",
       "1      0.000000   judgment\n",
       "2      0.000000   judgment\n",
       "3    100.000000   judgment\n",
       "4    100.000000   judgment\n",
       "..          ...        ...\n",
       "229   54.941893  classical\n",
       "230   45.992037  classical\n",
       "231   54.941899  classical\n",
       "232   45.992031  classical\n",
       "233   56.679017  classical\n",
       "\n",
       "[234 rows x 2 columns]"
      ]
     },
     "execution_count": 6,
     "metadata": {},
     "output_type": "execute_result"
    }
   ],
   "source": [
    "participant_215 = {\"values\":list(np.append(data[215,:],np.append(QSS_MS[215,:], CSS_MS[215,:]))), \n",
    "                   \"type\":list(np.append([\"judgment\"]*78,np.append([\"quantum\"]*78, [\"classical\"]*78)))}\n",
    "participant_215 = pd.DataFrame(participant_215)\n",
    "participant_215"
   ]
  },
  {
   "cell_type": "code",
   "execution_count": 14,
   "id": "9dc17fb8",
   "metadata": {},
   "outputs": [
    {
     "data": {
      "image/png": "[encoded data removed]",
      "text/plain": [
       "<Figure size 444x360 with 1 Axes>"
      ]
     },
     "metadata": {
      "needs_background": "light"
     },
     "output_type": "display_data"
    }
   ],
   "source": [
    "sns.displot(participant_215, x = \"values\", hue = \"type\", kind = \"kde\")._legend.remove()\n",
    "plt.grid()\n",
    "plt.title(\"Participant 215\")\n",
    "plt.xlabel(\"All Judgments\")\n",
    "plt.legend([\"classical\",\"quantum\",\"data\"], frameon=True)\n",
    "plt.savefig(\"participant215_plot.jpg\", dpi = 500, bbox_inches=\"tight\")"
   ]
  },
  {
   "cell_type": "code",
   "execution_count": null,
   "id": "616eb526",
   "metadata": {},
   "outputs": [],
   "source": []
  }
 ],
 "metadata": {
  "kernelspec": {
   "display_name": "Python 3",
   "language": "python",
   "name": "python3"
  },
  "language_info": {
   "codemirror_mode": {
    "name": "ipython",
    "version": 3
   },
   "file_extension": ".py",
   "mimetype": "text/x-python",
   "name": "python",
   "nbconvert_exporter": "python",
   "pygments_lexer": "ipython3",
   "version": "3.8.8"
  }
 },
 "nbformat": 4,
 "nbformat_minor": 5
}
