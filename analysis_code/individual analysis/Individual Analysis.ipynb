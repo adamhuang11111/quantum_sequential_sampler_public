{
 "cells": [
  {
   "cell_type": "code",
   "execution_count": 1,
   "id": "58dd3ded",
   "metadata": {},
   "outputs": [],
   "source": [
    "import pandas as pd\n",
    "import numpy as np\n",
    "import matplotlib.pyplot as plt\n",
    "import os\n",
    "import seaborn as sns\n",
    "import scipy.io as sp\n",
    "import matplotlib.transforms as transforms"
   ]
  },
  {
   "cell_type": "markdown",
   "id": "9d044500",
   "metadata": {},
   "source": [
    "## Load Data"
   ]
  },
  {
   "cell_type": "code",
   "execution_count": 2,
   "id": "d8f7571a",
   "metadata": {},
   "outputs": [],
   "source": [
    "QSS_nLLS = sp.loadmat(\"IndDat_int1_qq_nLLS.mat\")['nLLS'][0: 1162,:]\n",
    "QSS_MS = sp.loadmat(\"IndDat_int1_qq_Ms.mat\")['Ms_all'][0: 1162,:]"
   ]
  },
  {
   "cell_type": "code",
   "execution_count": 3,
   "id": "e93faf43",
   "metadata": {},
   "outputs": [],
   "source": [
    "CSS_nLLS = sp.loadmat(\"IndDat_classical_nLLS.mat\")['nLLS'][0: 1162,:]\n",
    "CSS_MS = sp.loadmat(\"IndDat_classical_Ms.mat\")['Ms_all'][0: 1162,:]"
   ]
  },
  {
   "cell_type": "code",
   "execution_count": 4,
   "id": "328fc74c",
   "metadata": {},
   "outputs": [],
   "source": [
    "data = sp.loadmat(\"indDat.mat\")['Rdat'][0:1162, :]"
   ]
  },
  {
   "cell_type": "markdown",
   "id": "b96aca2a",
   "metadata": {},
   "source": [
    "# Participant Plots"
   ]
  },
  {
   "cell_type": "markdown",
   "id": "e163b35e",
   "metadata": {},
   "source": [
    "Participants are chosen by inspecting the representativeness of their empirical data, and the difference between the CSS and QSS G square fit (we only select those with large G square improvement from quantum interference). "
   ]
  },
  {
   "cell_type": "markdown",
   "id": "67d5283f",
   "metadata": {},
   "source": [
    "# Participant 215"
   ]
  },
  {
   "cell_type": "code",
   "execution_count": 5,
   "id": "f69f5283",
   "metadata": {
    "scrolled": true
   },
   "outputs": [
    {
     "data": {
      "text/plain": [
       "array([24.42851493])"
      ]
     },
     "execution_count": 5,
     "metadata": {},
     "output_type": "execute_result"
    }
   ],
   "source": [
    "nLLS_diff_215 = CSS_nLLS[215] - QSS_nLLS[215]\n",
    "nLLS_diff_215"
   ]
  },
  {
   "cell_type": "code",
   "execution_count": 6,
   "id": "8b3a1c72",
   "metadata": {},
   "outputs": [
    {
     "data": {
      "text/html": [
       "<div>\n",
       "<style scoped>\n",
       "    .dataframe tbody tr th:only-of-type {\n",
       "        vertical-align: middle;\n",
       "    }\n",
       "\n",
       "    .dataframe tbody tr th {\n",
       "        vertical-align: top;\n",
       "    }\n",
       "\n",
       "    .dataframe thead th {\n",
       "        text-align: right;\n",
       "    }\n",
       "</style>\n",
       "<table border=\"1\" class=\"dataframe\">\n",
       "  <thead>\n",
       "    <tr style=\"text-align: right;\">\n",
       "      <th></th>\n",
       "      <th>values</th>\n",
       "      <th>type</th>\n",
       "    </tr>\n",
       "  </thead>\n",
       "  <tbody>\n",
       "    <tr>\n",
       "      <th>0</th>\n",
       "      <td>0.000000</td>\n",
       "      <td>judgment</td>\n",
       "    </tr>\n",
       "    <tr>\n",
       "      <th>1</th>\n",
       "      <td>0.000000</td>\n",
       "      <td>judgment</td>\n",
       "    </tr>\n",
       "    <tr>\n",
       "      <th>2</th>\n",
       "      <td>0.000000</td>\n",
       "      <td>judgment</td>\n",
       "    </tr>\n",
       "    <tr>\n",
       "      <th>3</th>\n",
       "      <td>100.000000</td>\n",
       "      <td>judgment</td>\n",
       "    </tr>\n",
       "    <tr>\n",
       "      <th>4</th>\n",
       "      <td>100.000000</td>\n",
       "      <td>judgment</td>\n",
       "    </tr>\n",
       "    <tr>\n",
       "      <th>...</th>\n",
       "      <td>...</td>\n",
       "      <td>...</td>\n",
       "    </tr>\n",
       "    <tr>\n",
       "      <th>229</th>\n",
       "      <td>54.941893</td>\n",
       "      <td>classical</td>\n",
       "    </tr>\n",
       "    <tr>\n",
       "      <th>230</th>\n",
       "      <td>45.992037</td>\n",
       "      <td>classical</td>\n",
       "    </tr>\n",
       "    <tr>\n",
       "      <th>231</th>\n",
       "      <td>54.941899</td>\n",
       "      <td>classical</td>\n",
       "    </tr>\n",
       "    <tr>\n",
       "      <th>232</th>\n",
       "      <td>45.992031</td>\n",
       "      <td>classical</td>\n",
       "    </tr>\n",
       "    <tr>\n",
       "      <th>233</th>\n",
       "      <td>56.679017</td>\n",
       "      <td>classical</td>\n",
       "    </tr>\n",
       "  </tbody>\n",
       "</table>\n",
       "<p>234 rows × 2 columns</p>\n",
       "</div>"
      ],
      "text/plain": [
       "         values       type\n",
       "0      0.000000   judgment\n",
       "1      0.000000   judgment\n",
       "2      0.000000   judgment\n",
       "3    100.000000   judgment\n",
       "4    100.000000   judgment\n",
       "..          ...        ...\n",
       "229   54.941893  classical\n",
       "230   45.992037  classical\n",
       "231   54.941899  classical\n",
       "232   45.992031  classical\n",
       "233   56.679017  classical\n",
       "\n",
       "[234 rows x 2 columns]"
      ]
     },
     "execution_count": 6,
     "metadata": {},
     "output_type": "execute_result"
    }
   ],
   "source": [
    "participant_215 = {\"values\":list(np.append(data[215,:],np.append(QSS_MS[215,:], CSS_MS[215,:]))), \n",
    "                   \"type\":list(np.append([\"judgment\"]*78,np.append([\"quantum\"]*78, [\"classical\"]*78)))}\n",
    "participant_215 = pd.DataFrame(participant_215)\n",
    "participant_215"
   ]
  },
  {
   "cell_type": "code",
   "execution_count": 7,
   "id": "3b23856f",
   "metadata": {},
   "outputs": [
    {
     "data": {
      "image/png": "[encoded data removed]",
      "text/plain": [
       "<Figure size 444x360 with 1 Axes>"
      ]
     },
     "metadata": {
      "needs_background": "light"
     },
     "output_type": "display_data"
    }
   ],
   "source": [
    "sns.displot(participant_215, x = \"values\", hue = \"type\", kind = \"kde\")._legend.remove()\n",
    "plt.grid()\n",
    "plt.xlim(0,100)\n",
    "plt.title(\"Participant 215\")\n",
    "plt.xlabel(\"All Judgments\")\n",
    "plt.legend([\"classical\",\"quantum\",\"data\"], frameon=True)\n",
    "plt.savefig(\"participant215_plot.jpg\", dpi = 500, bbox_inches=\"tight\")"
   ]
  },
  {
   "cell_type": "markdown",
   "id": "24d17058",
   "metadata": {},
   "source": [
    "# Participant 872"
   ]
  },
  {
   "cell_type": "code",
   "execution_count": 8,
   "id": "2ff93cb8",
   "metadata": {},
   "outputs": [
    {
     "data": {
      "text/plain": [
       "array([28.3899815])"
      ]
     },
     "execution_count": 8,
     "metadata": {},
     "output_type": "execute_result"
    }
   ],
   "source": [
    "nLLS_diff_872 = CSS_nLLS[872] - QSS_nLLS[872]\n",
    "nLLS_diff_872"
   ]
  },
  {
   "cell_type": "code",
   "execution_count": 9,
   "id": "09d79109",
   "metadata": {},
   "outputs": [
    {
     "data": {
      "text/html": [
       "<div>\n",
       "<style scoped>\n",
       "    .dataframe tbody tr th:only-of-type {\n",
       "        vertical-align: middle;\n",
       "    }\n",
       "\n",
       "    .dataframe tbody tr th {\n",
       "        vertical-align: top;\n",
       "    }\n",
       "\n",
       "    .dataframe thead th {\n",
       "        text-align: right;\n",
       "    }\n",
       "</style>\n",
       "<table border=\"1\" class=\"dataframe\">\n",
       "  <thead>\n",
       "    <tr style=\"text-align: right;\">\n",
       "      <th></th>\n",
       "      <th>values</th>\n",
       "      <th>type</th>\n",
       "    </tr>\n",
       "  </thead>\n",
       "  <tbody>\n",
       "    <tr>\n",
       "      <th>0</th>\n",
       "      <td>80.000000</td>\n",
       "      <td>judgment</td>\n",
       "    </tr>\n",
       "    <tr>\n",
       "      <th>1</th>\n",
       "      <td>85.000000</td>\n",
       "      <td>judgment</td>\n",
       "    </tr>\n",
       "    <tr>\n",
       "      <th>2</th>\n",
       "      <td>30.000000</td>\n",
       "      <td>judgment</td>\n",
       "    </tr>\n",
       "    <tr>\n",
       "      <th>3</th>\n",
       "      <td>20.000000</td>\n",
       "      <td>judgment</td>\n",
       "    </tr>\n",
       "    <tr>\n",
       "      <th>4</th>\n",
       "      <td>10.000000</td>\n",
       "      <td>judgment</td>\n",
       "    </tr>\n",
       "    <tr>\n",
       "      <th>...</th>\n",
       "      <td>...</td>\n",
       "      <td>...</td>\n",
       "    </tr>\n",
       "    <tr>\n",
       "      <th>229</th>\n",
       "      <td>61.335098</td>\n",
       "      <td>classical</td>\n",
       "    </tr>\n",
       "    <tr>\n",
       "      <th>230</th>\n",
       "      <td>39.134828</td>\n",
       "      <td>classical</td>\n",
       "    </tr>\n",
       "    <tr>\n",
       "      <th>231</th>\n",
       "      <td>61.336059</td>\n",
       "      <td>classical</td>\n",
       "    </tr>\n",
       "    <tr>\n",
       "      <th>232</th>\n",
       "      <td>39.133859</td>\n",
       "      <td>classical</td>\n",
       "    </tr>\n",
       "    <tr>\n",
       "      <th>233</th>\n",
       "      <td>61.335907</td>\n",
       "      <td>classical</td>\n",
       "    </tr>\n",
       "  </tbody>\n",
       "</table>\n",
       "<p>234 rows × 2 columns</p>\n",
       "</div>"
      ],
      "text/plain": [
       "        values       type\n",
       "0    80.000000   judgment\n",
       "1    85.000000   judgment\n",
       "2    30.000000   judgment\n",
       "3    20.000000   judgment\n",
       "4    10.000000   judgment\n",
       "..         ...        ...\n",
       "229  61.335098  classical\n",
       "230  39.134828  classical\n",
       "231  61.336059  classical\n",
       "232  39.133859  classical\n",
       "233  61.335907  classical\n",
       "\n",
       "[234 rows x 2 columns]"
      ]
     },
     "execution_count": 9,
     "metadata": {},
     "output_type": "execute_result"
    }
   ],
   "source": [
    "participant_872 = {\"values\":list(np.append(data[872,:],np.append(QSS_MS[872,:], CSS_MS[872,:]))), \n",
    "                   \"type\":list(np.append([\"judgment\"]*78,np.append([\"quantum\"]*78, [\"classical\"]*78)))}\n",
    "participant_872 = pd.DataFrame(participant_872)\n",
    "participant_872"
   ]
  },
  {
   "cell_type": "code",
   "execution_count": 10,
   "id": "8eeb864e",
   "metadata": {},
   "outputs": [
    {
     "data": {
      "image/png": "[encoded data removed]",
      "text/plain": [
       "<Figure size 444x360 with 1 Axes>"
      ]
     },
     "metadata": {
      "needs_background": "light"
     },
     "output_type": "display_data"
    }
   ],
   "source": [
    "sns.displot(participant_872, x = \"values\", hue = \"type\", kind = \"kde\")._legend.remove()\n",
    "plt.grid()\n",
    "plt.xlim(0,100)\n",
    "plt.title(\"Participant 872\")\n",
    "plt.xlabel(\"All Judgments\")\n",
    "plt.legend([\"classical\",\"quantum\",\"data\"], frameon=True)\n",
    "plt.savefig(\"participant_872_plot.jpg\", bbox_inches=\"tight\", dpi = 500)"
   ]
  },
  {
   "cell_type": "markdown",
   "id": "af3b9aaf",
   "metadata": {},
   "source": [
    "# Classical Participant - Participant 1098"
   ]
  },
  {
   "cell_type": "code",
   "execution_count": 11,
   "id": "deec5941",
   "metadata": {},
   "outputs": [
    {
     "data": {
      "text/plain": [
       "array([0.])"
      ]
     },
     "execution_count": 11,
     "metadata": {},
     "output_type": "execute_result"
    }
   ],
   "source": [
    "nLLS_diff_1098 = CSS_nLLS[1098] - QSS_nLLS[1098]\n",
    "nLLS_diff_1098"
   ]
  },
  {
   "cell_type": "code",
   "execution_count": 12,
   "id": "4a3e0e4d",
   "metadata": {},
   "outputs": [
    {
     "data": {
      "text/html": [
       "<div>\n",
       "<style scoped>\n",
       "    .dataframe tbody tr th:only-of-type {\n",
       "        vertical-align: middle;\n",
       "    }\n",
       "\n",
       "    .dataframe tbody tr th {\n",
       "        vertical-align: top;\n",
       "    }\n",
       "\n",
       "    .dataframe thead th {\n",
       "        text-align: right;\n",
       "    }\n",
       "</style>\n",
       "<table border=\"1\" class=\"dataframe\">\n",
       "  <thead>\n",
       "    <tr style=\"text-align: right;\">\n",
       "      <th></th>\n",
       "      <th>values</th>\n",
       "      <th>type</th>\n",
       "    </tr>\n",
       "  </thead>\n",
       "  <tbody>\n",
       "    <tr>\n",
       "      <th>0</th>\n",
       "      <td>95.000000</td>\n",
       "      <td>judgment</td>\n",
       "    </tr>\n",
       "    <tr>\n",
       "      <th>1</th>\n",
       "      <td>85.000000</td>\n",
       "      <td>judgment</td>\n",
       "    </tr>\n",
       "    <tr>\n",
       "      <th>2</th>\n",
       "      <td>35.000000</td>\n",
       "      <td>judgment</td>\n",
       "    </tr>\n",
       "    <tr>\n",
       "      <th>3</th>\n",
       "      <td>10.000000</td>\n",
       "      <td>judgment</td>\n",
       "    </tr>\n",
       "    <tr>\n",
       "      <th>4</th>\n",
       "      <td>15.000000</td>\n",
       "      <td>judgment</td>\n",
       "    </tr>\n",
       "    <tr>\n",
       "      <th>...</th>\n",
       "      <td>...</td>\n",
       "      <td>...</td>\n",
       "    </tr>\n",
       "    <tr>\n",
       "      <th>151</th>\n",
       "      <td>17.929725</td>\n",
       "      <td>classical</td>\n",
       "    </tr>\n",
       "    <tr>\n",
       "      <th>152</th>\n",
       "      <td>86.115038</td>\n",
       "      <td>classical</td>\n",
       "    </tr>\n",
       "    <tr>\n",
       "      <th>153</th>\n",
       "      <td>36.645597</td>\n",
       "      <td>classical</td>\n",
       "    </tr>\n",
       "    <tr>\n",
       "      <th>154</th>\n",
       "      <td>68.076395</td>\n",
       "      <td>classical</td>\n",
       "    </tr>\n",
       "    <tr>\n",
       "      <th>155</th>\n",
       "      <td>68.101876</td>\n",
       "      <td>classical</td>\n",
       "    </tr>\n",
       "  </tbody>\n",
       "</table>\n",
       "<p>156 rows × 2 columns</p>\n",
       "</div>"
      ],
      "text/plain": [
       "        values       type\n",
       "0    95.000000   judgment\n",
       "1    85.000000   judgment\n",
       "2    35.000000   judgment\n",
       "3    10.000000   judgment\n",
       "4    15.000000   judgment\n",
       "..         ...        ...\n",
       "151  17.929725  classical\n",
       "152  86.115038  classical\n",
       "153  36.645597  classical\n",
       "154  68.076395  classical\n",
       "155  68.101876  classical\n",
       "\n",
       "[156 rows x 2 columns]"
      ]
     },
     "execution_count": 12,
     "metadata": {},
     "output_type": "execute_result"
    }
   ],
   "source": [
    "participant_1098 = {\"values\":list(np.append(data[1098,:],CSS_MS[1098,:])), \n",
    "                   \"type\":list(np.append([\"judgment\"]*78, [\"classical\"]*78))}\n",
    "participant_1098 = pd.DataFrame(participant_1098)\n",
    "participant_1098"
   ]
  },
  {
   "cell_type": "code",
   "execution_count": 13,
   "id": "22ad8045",
   "metadata": {},
   "outputs": [
    {
     "data": {
      "image/png": "[encoded data removed]",
      "text/plain": [
       "<Figure size 444x360 with 1 Axes>"
      ]
     },
     "metadata": {
      "needs_background": "light"
     },
     "output_type": "display_data"
    }
   ],
   "source": [
    "sns.displot(participant_1098, x = \"values\", hue = \"type\", kind = \"kde\")._legend.remove()\n",
    "plt.grid()\n",
    "plt.xlim(0,100)\n",
    "plt.title(\"Participant 1098\")\n",
    "plt.xlabel(\"All Judgments\")\n",
    "plt.legend([\"classical\",\"data\"], frameon=True)\n",
    "plt.savefig(\"participant_1098_plot.jpg\", dpi = 500, bbox_inches=\"tight\")"
   ]
  },
  {
   "cell_type": "markdown",
   "id": "d596798d",
   "metadata": {},
   "source": [
    "# Participant 2"
   ]
  },
  {
   "cell_type": "code",
   "execution_count": 14,
   "id": "28dde81f",
   "metadata": {
    "scrolled": true
   },
   "outputs": [
    {
     "data": {
      "text/plain": [
       "array([47.37613334])"
      ]
     },
     "execution_count": 14,
     "metadata": {},
     "output_type": "execute_result"
    }
   ],
   "source": [
    "nLLS_diff_2 = CSS_nLLS[2] - QSS_nLLS[2]\n",
    "nLLS_diff_2"
   ]
  },
  {
   "cell_type": "code",
   "execution_count": 15,
   "id": "0d7b40b7",
   "metadata": {},
   "outputs": [
    {
     "data": {
      "text/html": [
       "<div>\n",
       "<style scoped>\n",
       "    .dataframe tbody tr th:only-of-type {\n",
       "        vertical-align: middle;\n",
       "    }\n",
       "\n",
       "    .dataframe tbody tr th {\n",
       "        vertical-align: top;\n",
       "    }\n",
       "\n",
       "    .dataframe thead th {\n",
       "        text-align: right;\n",
       "    }\n",
       "</style>\n",
       "<table border=\"1\" class=\"dataframe\">\n",
       "  <thead>\n",
       "    <tr style=\"text-align: right;\">\n",
       "      <th></th>\n",
       "      <th>values</th>\n",
       "      <th>type</th>\n",
       "    </tr>\n",
       "  </thead>\n",
       "  <tbody>\n",
       "    <tr>\n",
       "      <th>0</th>\n",
       "      <td>52.000000</td>\n",
       "      <td>judgment</td>\n",
       "    </tr>\n",
       "    <tr>\n",
       "      <th>1</th>\n",
       "      <td>55.000000</td>\n",
       "      <td>judgment</td>\n",
       "    </tr>\n",
       "    <tr>\n",
       "      <th>2</th>\n",
       "      <td>65.000000</td>\n",
       "      <td>judgment</td>\n",
       "    </tr>\n",
       "    <tr>\n",
       "      <th>3</th>\n",
       "      <td>47.000000</td>\n",
       "      <td>judgment</td>\n",
       "    </tr>\n",
       "    <tr>\n",
       "      <th>4</th>\n",
       "      <td>44.000000</td>\n",
       "      <td>judgment</td>\n",
       "    </tr>\n",
       "    <tr>\n",
       "      <th>...</th>\n",
       "      <td>...</td>\n",
       "      <td>...</td>\n",
       "    </tr>\n",
       "    <tr>\n",
       "      <th>229</th>\n",
       "      <td>49.805875</td>\n",
       "      <td>classical</td>\n",
       "    </tr>\n",
       "    <tr>\n",
       "      <th>230</th>\n",
       "      <td>49.805875</td>\n",
       "      <td>classical</td>\n",
       "    </tr>\n",
       "    <tr>\n",
       "      <th>231</th>\n",
       "      <td>49.805875</td>\n",
       "      <td>classical</td>\n",
       "    </tr>\n",
       "    <tr>\n",
       "      <th>232</th>\n",
       "      <td>49.805875</td>\n",
       "      <td>classical</td>\n",
       "    </tr>\n",
       "    <tr>\n",
       "      <th>233</th>\n",
       "      <td>49.805875</td>\n",
       "      <td>classical</td>\n",
       "    </tr>\n",
       "  </tbody>\n",
       "</table>\n",
       "<p>234 rows × 2 columns</p>\n",
       "</div>"
      ],
      "text/plain": [
       "        values       type\n",
       "0    52.000000   judgment\n",
       "1    55.000000   judgment\n",
       "2    65.000000   judgment\n",
       "3    47.000000   judgment\n",
       "4    44.000000   judgment\n",
       "..         ...        ...\n",
       "229  49.805875  classical\n",
       "230  49.805875  classical\n",
       "231  49.805875  classical\n",
       "232  49.805875  classical\n",
       "233  49.805875  classical\n",
       "\n",
       "[234 rows x 2 columns]"
      ]
     },
     "execution_count": 15,
     "metadata": {},
     "output_type": "execute_result"
    }
   ],
   "source": [
    "participant_2 = {\"values\":list(np.append(data[2,:],np.append(QSS_MS[2,:], CSS_MS[2,:]))), \n",
    "                   \"type\":list(np.append([\"judgment\"]*78,np.append([\"quantum\"]*78, [\"classical\"]*78)))}\n",
    "participant_2 = pd.DataFrame(participant_2)\n",
    "participant_2"
   ]
  },
  {
   "cell_type": "code",
   "execution_count": 16,
   "id": "0e1d4edd",
   "metadata": {},
   "outputs": [],
   "source": [
    "# Since classical variant is singular, we plot is as a verticle line\n",
    "classical_val_2 = np.array(participant_2[participant_2[\"type\"]== \"classical\"])[0][0]\n",
    "participant_2 = participant_2[participant_2[\"type\"]!= \"classical\"]"
   ]
  },
  {
   "cell_type": "code",
   "execution_count": 17,
   "id": "5f96c982",
   "metadata": {},
   "outputs": [
    {
     "data": {
      "image/png": "[encoded data removed]",
      "text/plain": [
       "<Figure size 444x360 with 1 Axes>"
      ]
     },
     "metadata": {
      "needs_background": "light"
     },
     "output_type": "display_data"
    }
   ],
   "source": [
    "sns.displot(participant_2, x = \"values\", hue = \"type\", kind = \"kde\")._legend.remove()\n",
    "plt.vlines(classical_val_2,0,0.2, color = \"green\")\n",
    "plt.xlim(0,100)\n",
    "plt.grid()\n",
    "plt.title(\"Participant 2\")\n",
    "plt.xlabel(\"All Judgments\")\n",
    "plt.legend([\"quantum\",\"data\",\"classical\"], frameon=True)\n",
    "plt.savefig(\"participant2_plot.jpg\", dpi = 500, bbox_inches=\"tight\")"
   ]
  },
  {
   "cell_type": "markdown",
   "id": "fd826f18",
   "metadata": {},
   "source": [
    "# Participant 184"
   ]
  },
  {
   "cell_type": "code",
   "execution_count": 18,
   "id": "7b186607",
   "metadata": {
    "scrolled": true
   },
   "outputs": [
    {
     "data": {
      "text/plain": [
       "array([96.78676355])"
      ]
     },
     "execution_count": 18,
     "metadata": {},
     "output_type": "execute_result"
    }
   ],
   "source": [
    "nLLS_diff_184 = CSS_nLLS[184] - QSS_nLLS[184]\n",
    "nLLS_diff_184"
   ]
  },
  {
   "cell_type": "code",
   "execution_count": 19,
   "id": "7a6e3cfe",
   "metadata": {
    "scrolled": false
   },
   "outputs": [
    {
     "data": {
      "text/html": [
       "<div>\n",
       "<style scoped>\n",
       "    .dataframe tbody tr th:only-of-type {\n",
       "        vertical-align: middle;\n",
       "    }\n",
       "\n",
       "    .dataframe tbody tr th {\n",
       "        vertical-align: top;\n",
       "    }\n",
       "\n",
       "    .dataframe thead th {\n",
       "        text-align: right;\n",
       "    }\n",
       "</style>\n",
       "<table border=\"1\" class=\"dataframe\">\n",
       "  <thead>\n",
       "    <tr style=\"text-align: right;\">\n",
       "      <th></th>\n",
       "      <th>values</th>\n",
       "      <th>type</th>\n",
       "    </tr>\n",
       "  </thead>\n",
       "  <tbody>\n",
       "    <tr>\n",
       "      <th>0</th>\n",
       "      <td>71.000000</td>\n",
       "      <td>judgment</td>\n",
       "    </tr>\n",
       "    <tr>\n",
       "      <th>1</th>\n",
       "      <td>60.000000</td>\n",
       "      <td>judgment</td>\n",
       "    </tr>\n",
       "    <tr>\n",
       "      <th>2</th>\n",
       "      <td>30.000000</td>\n",
       "      <td>judgment</td>\n",
       "    </tr>\n",
       "    <tr>\n",
       "      <th>3</th>\n",
       "      <td>30.000000</td>\n",
       "      <td>judgment</td>\n",
       "    </tr>\n",
       "    <tr>\n",
       "      <th>4</th>\n",
       "      <td>30.000000</td>\n",
       "      <td>judgment</td>\n",
       "    </tr>\n",
       "    <tr>\n",
       "      <th>...</th>\n",
       "      <td>...</td>\n",
       "      <td>...</td>\n",
       "    </tr>\n",
       "    <tr>\n",
       "      <th>229</th>\n",
       "      <td>45.961617</td>\n",
       "      <td>classical</td>\n",
       "    </tr>\n",
       "    <tr>\n",
       "      <th>230</th>\n",
       "      <td>45.961617</td>\n",
       "      <td>classical</td>\n",
       "    </tr>\n",
       "    <tr>\n",
       "      <th>231</th>\n",
       "      <td>45.961617</td>\n",
       "      <td>classical</td>\n",
       "    </tr>\n",
       "    <tr>\n",
       "      <th>232</th>\n",
       "      <td>45.961617</td>\n",
       "      <td>classical</td>\n",
       "    </tr>\n",
       "    <tr>\n",
       "      <th>233</th>\n",
       "      <td>45.961617</td>\n",
       "      <td>classical</td>\n",
       "    </tr>\n",
       "  </tbody>\n",
       "</table>\n",
       "<p>234 rows × 2 columns</p>\n",
       "</div>"
      ],
      "text/plain": [
       "        values       type\n",
       "0    71.000000   judgment\n",
       "1    60.000000   judgment\n",
       "2    30.000000   judgment\n",
       "3    30.000000   judgment\n",
       "4    30.000000   judgment\n",
       "..         ...        ...\n",
       "229  45.961617  classical\n",
       "230  45.961617  classical\n",
       "231  45.961617  classical\n",
       "232  45.961617  classical\n",
       "233  45.961617  classical\n",
       "\n",
       "[234 rows x 2 columns]"
      ]
     },
     "execution_count": 19,
     "metadata": {},
     "output_type": "execute_result"
    }
   ],
   "source": [
    "participant_184 = {\"values\":list(np.append(data[184,:],np.append(QSS_MS[184,:], CSS_MS[184,:]))), \n",
    "                   \"type\":list(np.append([\"judgment\"]*78,np.append([\"quantum\"]*78, [\"classical\"]*78)))}\n",
    "participant_184 = pd.DataFrame(participant_184)\n",
    "participant_184"
   ]
  },
  {
   "cell_type": "code",
   "execution_count": 20,
   "id": "14a23b2e",
   "metadata": {},
   "outputs": [],
   "source": [
    "# Since classical variant is singular, we plot is as a verticle line\n",
    "classical_val_184 = np.array(participant_184[participant_184[\"type\"]== \"classical\"])[0][0]\n",
    "participant_184 = participant_184[participant_184[\"type\"]!= \"classical\"]"
   ]
  },
  {
   "cell_type": "code",
   "execution_count": 21,
   "id": "31065c1f",
   "metadata": {},
   "outputs": [
    {
     "data": {
      "image/png": "[encoded data removed]",
      "text/plain": [
       "<Figure size 444x360 with 1 Axes>"
      ]
     },
     "metadata": {
      "needs_background": "light"
     },
     "output_type": "display_data"
    }
   ],
   "source": [
    "sns.displot(participant_184, x = \"values\", hue = \"type\", kind = \"kde\")._legend.remove()\n",
    "plt.vlines(classical_val_184,0,0.08, color = \"green\")\n",
    "plt.grid()\n",
    "plt.xlim(0,100)\n",
    "plt.title(\"Participant 184\")\n",
    "plt.xlabel(\"All Judgments\")\n",
    "plt.legend([\"quantum\",\"data\",\"classical\"], frameon=True)\n",
    "plt.savefig(\"participant184_plot.jpg\", dpi = 500, bbox_inches=\"tight\")"
   ]
  },
  {
   "cell_type": "markdown",
   "id": "1e93ccc9",
   "metadata": {},
   "source": [
    "# Participant 223"
   ]
  },
  {
   "cell_type": "code",
   "execution_count": 22,
   "id": "9612be9d",
   "metadata": {
    "scrolled": true
   },
   "outputs": [
    {
     "data": {
      "text/plain": [
       "array([332.78535018])"
      ]
     },
     "execution_count": 22,
     "metadata": {},
     "output_type": "execute_result"
    }
   ],
   "source": [
    "nLLS_diff_223 = CSS_nLLS[223] - QSS_nLLS[223]\n",
    "nLLS_diff_223"
   ]
  },
  {
   "cell_type": "code",
   "execution_count": 23,
   "id": "a57998d9",
   "metadata": {
    "scrolled": false
   },
   "outputs": [
    {
     "data": {
      "text/html": [
       "<div>\n",
       "<style scoped>\n",
       "    .dataframe tbody tr th:only-of-type {\n",
       "        vertical-align: middle;\n",
       "    }\n",
       "\n",
       "    .dataframe tbody tr th {\n",
       "        vertical-align: top;\n",
       "    }\n",
       "\n",
       "    .dataframe thead th {\n",
       "        text-align: right;\n",
       "    }\n",
       "</style>\n",
       "<table border=\"1\" class=\"dataframe\">\n",
       "  <thead>\n",
       "    <tr style=\"text-align: right;\">\n",
       "      <th></th>\n",
       "      <th>values</th>\n",
       "      <th>type</th>\n",
       "    </tr>\n",
       "  </thead>\n",
       "  <tbody>\n",
       "    <tr>\n",
       "      <th>0</th>\n",
       "      <td>100.000000</td>\n",
       "      <td>judgment</td>\n",
       "    </tr>\n",
       "    <tr>\n",
       "      <th>1</th>\n",
       "      <td>100.000000</td>\n",
       "      <td>judgment</td>\n",
       "    </tr>\n",
       "    <tr>\n",
       "      <th>2</th>\n",
       "      <td>100.000000</td>\n",
       "      <td>judgment</td>\n",
       "    </tr>\n",
       "    <tr>\n",
       "      <th>3</th>\n",
       "      <td>0.000000</td>\n",
       "      <td>judgment</td>\n",
       "    </tr>\n",
       "    <tr>\n",
       "      <th>4</th>\n",
       "      <td>0.000000</td>\n",
       "      <td>judgment</td>\n",
       "    </tr>\n",
       "    <tr>\n",
       "      <th>...</th>\n",
       "      <td>...</td>\n",
       "      <td>...</td>\n",
       "    </tr>\n",
       "    <tr>\n",
       "      <th>229</th>\n",
       "      <td>0.040430</td>\n",
       "      <td>classical</td>\n",
       "    </tr>\n",
       "    <tr>\n",
       "      <th>230</th>\n",
       "      <td>99.959570</td>\n",
       "      <td>classical</td>\n",
       "    </tr>\n",
       "    <tr>\n",
       "      <th>231</th>\n",
       "      <td>99.994433</td>\n",
       "      <td>classical</td>\n",
       "    </tr>\n",
       "    <tr>\n",
       "      <th>232</th>\n",
       "      <td>0.005567</td>\n",
       "      <td>classical</td>\n",
       "    </tr>\n",
       "    <tr>\n",
       "      <th>233</th>\n",
       "      <td>0.041069</td>\n",
       "      <td>classical</td>\n",
       "    </tr>\n",
       "  </tbody>\n",
       "</table>\n",
       "<p>234 rows × 2 columns</p>\n",
       "</div>"
      ],
      "text/plain": [
       "         values       type\n",
       "0    100.000000   judgment\n",
       "1    100.000000   judgment\n",
       "2    100.000000   judgment\n",
       "3      0.000000   judgment\n",
       "4      0.000000   judgment\n",
       "..          ...        ...\n",
       "229    0.040430  classical\n",
       "230   99.959570  classical\n",
       "231   99.994433  classical\n",
       "232    0.005567  classical\n",
       "233    0.041069  classical\n",
       "\n",
       "[234 rows x 2 columns]"
      ]
     },
     "execution_count": 23,
     "metadata": {},
     "output_type": "execute_result"
    }
   ],
   "source": [
    "participant_223 = {\"values\":list(np.append(data[223,:],np.append(QSS_MS[223,:], CSS_MS[223,:]))), \n",
    "                   \"type\":list(np.append([\"judgment\"]*78,np.append([\"quantum\"]*78, [\"classical\"]*78)))}\n",
    "participant_223 = pd.DataFrame(participant_223)\n",
    "participant_223"
   ]
  },
  {
   "cell_type": "code",
   "execution_count": 24,
   "id": "87020c18",
   "metadata": {},
   "outputs": [
    {
     "data": {
      "image/png": "[encoded data removed]",
      "text/plain": [
       "<Figure size 444x360 with 1 Axes>"
      ]
     },
     "metadata": {
      "needs_background": "light"
     },
     "output_type": "display_data"
    }
   ],
   "source": [
    "sns.displot(participant_223, x = \"values\", hue = \"type\", kind = \"kde\")._legend.remove()\n",
    "plt.grid()\n",
    "plt.xlim(0,100)\n",
    "plt.title(\"Participant 223\")\n",
    "plt.xlabel(\"All Judgments\")\n",
    "plt.legend([\"classical\",\"quantum\",\"data\"], frameon=True)\n",
    "plt.savefig(\"participant223_plot.jpg\", dpi = 500, bbox_inches=\"tight\")"
   ]
  },
  {
   "cell_type": "markdown",
   "id": "25062756",
   "metadata": {},
   "source": [
    "# Participant 254"
   ]
  },
  {
   "cell_type": "code",
   "execution_count": 25,
   "id": "d3007091",
   "metadata": {
    "scrolled": true
   },
   "outputs": [
    {
     "data": {
      "text/plain": [
       "array([45.97579558])"
      ]
     },
     "execution_count": 25,
     "metadata": {},
     "output_type": "execute_result"
    }
   ],
   "source": [
    "nLLS_diff_254 = CSS_nLLS[254] - QSS_nLLS[254]\n",
    "nLLS_diff_254"
   ]
  },
  {
   "cell_type": "code",
   "execution_count": 26,
   "id": "4c57dbf6",
   "metadata": {
    "scrolled": false
   },
   "outputs": [
    {
     "data": {
      "text/html": [
       "<div>\n",
       "<style scoped>\n",
       "    .dataframe tbody tr th:only-of-type {\n",
       "        vertical-align: middle;\n",
       "    }\n",
       "\n",
       "    .dataframe tbody tr th {\n",
       "        vertical-align: top;\n",
       "    }\n",
       "\n",
       "    .dataframe thead th {\n",
       "        text-align: right;\n",
       "    }\n",
       "</style>\n",
       "<table border=\"1\" class=\"dataframe\">\n",
       "  <thead>\n",
       "    <tr style=\"text-align: right;\">\n",
       "      <th></th>\n",
       "      <th>values</th>\n",
       "      <th>type</th>\n",
       "    </tr>\n",
       "  </thead>\n",
       "  <tbody>\n",
       "    <tr>\n",
       "      <th>0</th>\n",
       "      <td>53.000000</td>\n",
       "      <td>judgment</td>\n",
       "    </tr>\n",
       "    <tr>\n",
       "      <th>1</th>\n",
       "      <td>13.000000</td>\n",
       "      <td>judgment</td>\n",
       "    </tr>\n",
       "    <tr>\n",
       "      <th>2</th>\n",
       "      <td>85.000000</td>\n",
       "      <td>judgment</td>\n",
       "    </tr>\n",
       "    <tr>\n",
       "      <th>3</th>\n",
       "      <td>47.000000</td>\n",
       "      <td>judgment</td>\n",
       "    </tr>\n",
       "    <tr>\n",
       "      <th>4</th>\n",
       "      <td>85.000000</td>\n",
       "      <td>judgment</td>\n",
       "    </tr>\n",
       "    <tr>\n",
       "      <th>...</th>\n",
       "      <td>...</td>\n",
       "      <td>...</td>\n",
       "    </tr>\n",
       "    <tr>\n",
       "      <th>229</th>\n",
       "      <td>42.962028</td>\n",
       "      <td>classical</td>\n",
       "    </tr>\n",
       "    <tr>\n",
       "      <th>230</th>\n",
       "      <td>54.941536</td>\n",
       "      <td>classical</td>\n",
       "    </tr>\n",
       "    <tr>\n",
       "      <th>231</th>\n",
       "      <td>46.756529</td>\n",
       "      <td>classical</td>\n",
       "    </tr>\n",
       "    <tr>\n",
       "      <th>232</th>\n",
       "      <td>51.054715</td>\n",
       "      <td>classical</td>\n",
       "    </tr>\n",
       "    <tr>\n",
       "      <th>233</th>\n",
       "      <td>53.808221</td>\n",
       "      <td>classical</td>\n",
       "    </tr>\n",
       "  </tbody>\n",
       "</table>\n",
       "<p>234 rows × 2 columns</p>\n",
       "</div>"
      ],
      "text/plain": [
       "        values       type\n",
       "0    53.000000   judgment\n",
       "1    13.000000   judgment\n",
       "2    85.000000   judgment\n",
       "3    47.000000   judgment\n",
       "4    85.000000   judgment\n",
       "..         ...        ...\n",
       "229  42.962028  classical\n",
       "230  54.941536  classical\n",
       "231  46.756529  classical\n",
       "232  51.054715  classical\n",
       "233  53.808221  classical\n",
       "\n",
       "[234 rows x 2 columns]"
      ]
     },
     "execution_count": 26,
     "metadata": {},
     "output_type": "execute_result"
    }
   ],
   "source": [
    "participant_254 = {\"values\":list(np.append(data[254,:],np.append(QSS_MS[254,:], CSS_MS[254,:]))), \n",
    "                   \"type\":list(np.append([\"judgment\"]*78,np.append([\"quantum\"]*78, [\"classical\"]*78)))}\n",
    "participant_254 = pd.DataFrame(participant_254)\n",
    "participant_254"
   ]
  },
  {
   "cell_type": "code",
   "execution_count": 27,
   "id": "596681fa",
   "metadata": {},
   "outputs": [
    {
     "data": {
      "image/png": "[encoded data removed]",
      "text/plain": [
       "<Figure size 444x360 with 1 Axes>"
      ]
     },
     "metadata": {
      "needs_background": "light"
     },
     "output_type": "display_data"
    }
   ],
   "source": [
    "sns.displot(participant_254, x = \"values\", hue = \"type\", kind = \"kde\")._legend.remove()\n",
    "plt.grid()\n",
    "plt.xlim(0,100)\n",
    "plt.title(\"Participant 254\")\n",
    "plt.xlabel(\"All Judgments\")\n",
    "plt.legend([\"classical\",\"quantum\",\"data\"], frameon=True)\n",
    "plt.savefig(\"participant254_plot.jpg\", dpi = 500, bbox_inches=\"tight\")"
   ]
  },
  {
   "cell_type": "markdown",
   "id": "6796e074",
   "metadata": {},
   "source": [
    "# Participant 349"
   ]
  },
  {
   "cell_type": "code",
   "execution_count": 28,
   "id": "5c0a66b1",
   "metadata": {
    "scrolled": true
   },
   "outputs": [
    {
     "data": {
      "text/plain": [
       "array([39.11932463])"
      ]
     },
     "execution_count": 28,
     "metadata": {},
     "output_type": "execute_result"
    }
   ],
   "source": [
    "nLLS_diff_349 = CSS_nLLS[349] - QSS_nLLS[349]\n",
    "nLLS_diff_349"
   ]
  },
  {
   "cell_type": "code",
   "execution_count": 29,
   "id": "3d85de62",
   "metadata": {},
   "outputs": [
    {
     "data": {
      "text/html": [
       "<div>\n",
       "<style scoped>\n",
       "    .dataframe tbody tr th:only-of-type {\n",
       "        vertical-align: middle;\n",
       "    }\n",
       "\n",
       "    .dataframe tbody tr th {\n",
       "        vertical-align: top;\n",
       "    }\n",
       "\n",
       "    .dataframe thead th {\n",
       "        text-align: right;\n",
       "    }\n",
       "</style>\n",
       "<table border=\"1\" class=\"dataframe\">\n",
       "  <thead>\n",
       "    <tr style=\"text-align: right;\">\n",
       "      <th></th>\n",
       "      <th>values</th>\n",
       "      <th>type</th>\n",
       "    </tr>\n",
       "  </thead>\n",
       "  <tbody>\n",
       "    <tr>\n",
       "      <th>0</th>\n",
       "      <td>81.000000</td>\n",
       "      <td>judgment</td>\n",
       "    </tr>\n",
       "    <tr>\n",
       "      <th>1</th>\n",
       "      <td>100.000000</td>\n",
       "      <td>judgment</td>\n",
       "    </tr>\n",
       "    <tr>\n",
       "      <th>2</th>\n",
       "      <td>92.000000</td>\n",
       "      <td>judgment</td>\n",
       "    </tr>\n",
       "    <tr>\n",
       "      <th>3</th>\n",
       "      <td>19.000000</td>\n",
       "      <td>judgment</td>\n",
       "    </tr>\n",
       "    <tr>\n",
       "      <th>4</th>\n",
       "      <td>0.000000</td>\n",
       "      <td>judgment</td>\n",
       "    </tr>\n",
       "    <tr>\n",
       "      <th>...</th>\n",
       "      <td>...</td>\n",
       "      <td>...</td>\n",
       "    </tr>\n",
       "    <tr>\n",
       "      <th>229</th>\n",
       "      <td>47.700696</td>\n",
       "      <td>classical</td>\n",
       "    </tr>\n",
       "    <tr>\n",
       "      <th>230</th>\n",
       "      <td>53.941329</td>\n",
       "      <td>classical</td>\n",
       "    </tr>\n",
       "    <tr>\n",
       "      <th>231</th>\n",
       "      <td>50.905728</td>\n",
       "      <td>classical</td>\n",
       "    </tr>\n",
       "    <tr>\n",
       "      <th>232</th>\n",
       "      <td>50.811812</td>\n",
       "      <td>classical</td>\n",
       "    </tr>\n",
       "    <tr>\n",
       "      <th>233</th>\n",
       "      <td>53.915667</td>\n",
       "      <td>classical</td>\n",
       "    </tr>\n",
       "  </tbody>\n",
       "</table>\n",
       "<p>234 rows × 2 columns</p>\n",
       "</div>"
      ],
      "text/plain": [
       "         values       type\n",
       "0     81.000000   judgment\n",
       "1    100.000000   judgment\n",
       "2     92.000000   judgment\n",
       "3     19.000000   judgment\n",
       "4      0.000000   judgment\n",
       "..          ...        ...\n",
       "229   47.700696  classical\n",
       "230   53.941329  classical\n",
       "231   50.905728  classical\n",
       "232   50.811812  classical\n",
       "233   53.915667  classical\n",
       "\n",
       "[234 rows x 2 columns]"
      ]
     },
     "execution_count": 29,
     "metadata": {},
     "output_type": "execute_result"
    }
   ],
   "source": [
    "participant_349 = {\"values\":list(np.append(data[349,:],np.append(QSS_MS[349,:], CSS_MS[349,:]))), \n",
    "                   \"type\":list(np.append([\"judgment\"]*78,np.append([\"quantum\"]*78, [\"classical\"]*78)))}\n",
    "participant_349 = pd.DataFrame(participant_349)\n",
    "participant_349"
   ]
  },
  {
   "cell_type": "code",
   "execution_count": 30,
   "id": "f82d2c45",
   "metadata": {},
   "outputs": [
    {
     "data": {
      "image/png": "[encoded data removed]",
      "text/plain": [
       "<Figure size 444x360 with 1 Axes>"
      ]
     },
     "metadata": {
      "needs_background": "light"
     },
     "output_type": "display_data"
    }
   ],
   "source": [
    "sns.displot(participant_349, x = \"values\", hue = \"type\", kind = \"kde\")._legend.remove()\n",
    "plt.grid()\n",
    "plt.xlim(0,100)\n",
    "plt.title(\"Participant 349\")\n",
    "plt.xlabel(\"All Judgments\")\n",
    "plt.legend([\"classical\",\"quantum\",\"data\"], frameon=True)\n",
    "plt.savefig(\"participant349_plot.jpg\", dpi = 500, bbox_inches=\"tight\")"
   ]
  },
  {
   "cell_type": "markdown",
   "id": "c02e7ccb",
   "metadata": {},
   "source": [
    "# Participant 416"
   ]
  },
  {
   "cell_type": "code",
   "execution_count": 31,
   "id": "b8809114",
   "metadata": {
    "scrolled": true
   },
   "outputs": [
    {
     "data": {
      "text/plain": [
       "array([67.66765268])"
      ]
     },
     "execution_count": 31,
     "metadata": {},
     "output_type": "execute_result"
    }
   ],
   "source": [
    "nLLS_diff_416 = CSS_nLLS[416] - QSS_nLLS[416]\n",
    "nLLS_diff_416"
   ]
  },
  {
   "cell_type": "code",
   "execution_count": 32,
   "id": "7363459a",
   "metadata": {
    "scrolled": false
   },
   "outputs": [
    {
     "data": {
      "text/html": [
       "<div>\n",
       "<style scoped>\n",
       "    .dataframe tbody tr th:only-of-type {\n",
       "        vertical-align: middle;\n",
       "    }\n",
       "\n",
       "    .dataframe tbody tr th {\n",
       "        vertical-align: top;\n",
       "    }\n",
       "\n",
       "    .dataframe thead th {\n",
       "        text-align: right;\n",
       "    }\n",
       "</style>\n",
       "<table border=\"1\" class=\"dataframe\">\n",
       "  <thead>\n",
       "    <tr style=\"text-align: right;\">\n",
       "      <th></th>\n",
       "      <th>values</th>\n",
       "      <th>type</th>\n",
       "    </tr>\n",
       "  </thead>\n",
       "  <tbody>\n",
       "    <tr>\n",
       "      <th>0</th>\n",
       "      <td>87.000000</td>\n",
       "      <td>judgment</td>\n",
       "    </tr>\n",
       "    <tr>\n",
       "      <th>1</th>\n",
       "      <td>100.000000</td>\n",
       "      <td>judgment</td>\n",
       "    </tr>\n",
       "    <tr>\n",
       "      <th>2</th>\n",
       "      <td>80.000000</td>\n",
       "      <td>judgment</td>\n",
       "    </tr>\n",
       "    <tr>\n",
       "      <th>3</th>\n",
       "      <td>60.000000</td>\n",
       "      <td>judgment</td>\n",
       "    </tr>\n",
       "    <tr>\n",
       "      <th>4</th>\n",
       "      <td>71.000000</td>\n",
       "      <td>judgment</td>\n",
       "    </tr>\n",
       "    <tr>\n",
       "      <th>...</th>\n",
       "      <td>...</td>\n",
       "      <td>...</td>\n",
       "    </tr>\n",
       "    <tr>\n",
       "      <th>229</th>\n",
       "      <td>43.607544</td>\n",
       "      <td>classical</td>\n",
       "    </tr>\n",
       "    <tr>\n",
       "      <th>230</th>\n",
       "      <td>43.607544</td>\n",
       "      <td>classical</td>\n",
       "    </tr>\n",
       "    <tr>\n",
       "      <th>231</th>\n",
       "      <td>43.607544</td>\n",
       "      <td>classical</td>\n",
       "    </tr>\n",
       "    <tr>\n",
       "      <th>232</th>\n",
       "      <td>43.607544</td>\n",
       "      <td>classical</td>\n",
       "    </tr>\n",
       "    <tr>\n",
       "      <th>233</th>\n",
       "      <td>43.607544</td>\n",
       "      <td>classical</td>\n",
       "    </tr>\n",
       "  </tbody>\n",
       "</table>\n",
       "<p>234 rows × 2 columns</p>\n",
       "</div>"
      ],
      "text/plain": [
       "         values       type\n",
       "0     87.000000   judgment\n",
       "1    100.000000   judgment\n",
       "2     80.000000   judgment\n",
       "3     60.000000   judgment\n",
       "4     71.000000   judgment\n",
       "..          ...        ...\n",
       "229   43.607544  classical\n",
       "230   43.607544  classical\n",
       "231   43.607544  classical\n",
       "232   43.607544  classical\n",
       "233   43.607544  classical\n",
       "\n",
       "[234 rows x 2 columns]"
      ]
     },
     "execution_count": 32,
     "metadata": {},
     "output_type": "execute_result"
    }
   ],
   "source": [
    "participant_416 = {\"values\":list(np.append(data[416,:],np.append(QSS_MS[416,:], CSS_MS[416,:]))), \n",
    "                   \"type\":list(np.append([\"judgment\"]*78,np.append([\"quantum\"]*78, [\"classical\"]*78)))}\n",
    "participant_416 = pd.DataFrame(participant_416)\n",
    "participant_416"
   ]
  },
  {
   "cell_type": "code",
   "execution_count": 33,
   "id": "66a3673c",
   "metadata": {},
   "outputs": [],
   "source": [
    "# Since classical variant is singular, we plot is as a verticle line\n",
    "classical_val_416 = np.array(participant_416[participant_416[\"type\"]== \"classical\"])[0][0]\n",
    "participant_416 = participant_416[participant_416[\"type\"]!= \"classical\"]"
   ]
  },
  {
   "cell_type": "code",
   "execution_count": 34,
   "id": "1ed307c3",
   "metadata": {},
   "outputs": [
    {
     "data": {
      "image/png": "[encoded data removed]",
      "text/plain": [
       "<Figure size 444x360 with 1 Axes>"
      ]
     },
     "metadata": {
      "needs_background": "light"
     },
     "output_type": "display_data"
    }
   ],
   "source": [
    "sns.displot(participant_416, x = \"values\", hue = \"type\", kind = \"kde\")._legend.remove()\n",
    "plt.vlines(classical_val_416,0,0.05, color = \"green\")\n",
    "plt.xlim(0,100)\n",
    "plt.grid()\n",
    "plt.title(\"Participant 416\")\n",
    "plt.xlabel(\"All Judgments\")\n",
    "plt.legend([\"quantum\",\"data\",\"classical\"], frameon=True)\n",
    "plt.savefig(\"participant416_plot.jpg\", dpi = 500, bbox_inches=\"tight\")"
   ]
  },
  {
   "cell_type": "markdown",
   "id": "795f1735",
   "metadata": {},
   "source": [
    "# Participant 565"
   ]
  },
  {
   "cell_type": "code",
   "execution_count": 35,
   "id": "7ae9c468",
   "metadata": {
    "scrolled": true
   },
   "outputs": [
    {
     "data": {
      "text/plain": [
       "array([60.53833328])"
      ]
     },
     "execution_count": 35,
     "metadata": {},
     "output_type": "execute_result"
    }
   ],
   "source": [
    "nLLS_diff_565 = CSS_nLLS[565] - QSS_nLLS[565]\n",
    "nLLS_diff_565"
   ]
  },
  {
   "cell_type": "code",
   "execution_count": 36,
   "id": "f841bc70",
   "metadata": {
    "scrolled": false
   },
   "outputs": [
    {
     "data": {
      "text/html": [
       "<div>\n",
       "<style scoped>\n",
       "    .dataframe tbody tr th:only-of-type {\n",
       "        vertical-align: middle;\n",
       "    }\n",
       "\n",
       "    .dataframe tbody tr th {\n",
       "        vertical-align: top;\n",
       "    }\n",
       "\n",
       "    .dataframe thead th {\n",
       "        text-align: right;\n",
       "    }\n",
       "</style>\n",
       "<table border=\"1\" class=\"dataframe\">\n",
       "  <thead>\n",
       "    <tr style=\"text-align: right;\">\n",
       "      <th></th>\n",
       "      <th>values</th>\n",
       "      <th>type</th>\n",
       "    </tr>\n",
       "  </thead>\n",
       "  <tbody>\n",
       "    <tr>\n",
       "      <th>0</th>\n",
       "      <td>85.000000</td>\n",
       "      <td>judgment</td>\n",
       "    </tr>\n",
       "    <tr>\n",
       "      <th>1</th>\n",
       "      <td>87.000000</td>\n",
       "      <td>judgment</td>\n",
       "    </tr>\n",
       "    <tr>\n",
       "      <th>2</th>\n",
       "      <td>94.000000</td>\n",
       "      <td>judgment</td>\n",
       "    </tr>\n",
       "    <tr>\n",
       "      <th>3</th>\n",
       "      <td>22.000000</td>\n",
       "      <td>judgment</td>\n",
       "    </tr>\n",
       "    <tr>\n",
       "      <th>4</th>\n",
       "      <td>13.000000</td>\n",
       "      <td>judgment</td>\n",
       "    </tr>\n",
       "    <tr>\n",
       "      <th>...</th>\n",
       "      <td>...</td>\n",
       "      <td>...</td>\n",
       "    </tr>\n",
       "    <tr>\n",
       "      <th>229</th>\n",
       "      <td>38.739066</td>\n",
       "      <td>classical</td>\n",
       "    </tr>\n",
       "    <tr>\n",
       "      <th>230</th>\n",
       "      <td>66.357318</td>\n",
       "      <td>classical</td>\n",
       "    </tr>\n",
       "    <tr>\n",
       "      <th>231</th>\n",
       "      <td>57.568998</td>\n",
       "      <td>classical</td>\n",
       "    </tr>\n",
       "    <tr>\n",
       "      <th>232</th>\n",
       "      <td>48.291541</td>\n",
       "      <td>classical</td>\n",
       "    </tr>\n",
       "    <tr>\n",
       "      <th>233</th>\n",
       "      <td>58.818596</td>\n",
       "      <td>classical</td>\n",
       "    </tr>\n",
       "  </tbody>\n",
       "</table>\n",
       "<p>234 rows × 2 columns</p>\n",
       "</div>"
      ],
      "text/plain": [
       "        values       type\n",
       "0    85.000000   judgment\n",
       "1    87.000000   judgment\n",
       "2    94.000000   judgment\n",
       "3    22.000000   judgment\n",
       "4    13.000000   judgment\n",
       "..         ...        ...\n",
       "229  38.739066  classical\n",
       "230  66.357318  classical\n",
       "231  57.568998  classical\n",
       "232  48.291541  classical\n",
       "233  58.818596  classical\n",
       "\n",
       "[234 rows x 2 columns]"
      ]
     },
     "execution_count": 36,
     "metadata": {},
     "output_type": "execute_result"
    }
   ],
   "source": [
    "participant_565 = {\"values\":list(np.append(data[565,:],np.append(QSS_MS[565,:], CSS_MS[565,:]))), \n",
    "                   \"type\":list(np.append([\"judgment\"]*78,np.append([\"quantum\"]*78, [\"classical\"]*78)))}\n",
    "participant_565 = pd.DataFrame(participant_565)\n",
    "participant_565"
   ]
  },
  {
   "cell_type": "code",
   "execution_count": 37,
   "id": "5a85b621",
   "metadata": {},
   "outputs": [
    {
     "data": {
      "image/png": "[encoded data removed]",
      "text/plain": [
       "<Figure size 444x360 with 1 Axes>"
      ]
     },
     "metadata": {
      "needs_background": "light"
     },
     "output_type": "display_data"
    }
   ],
   "source": [
    "sns.displot(participant_565, x = \"values\", hue = \"type\", kind = \"kde\")._legend.remove()\n",
    "plt.grid()\n",
    "plt.xlim(0,100)\n",
    "plt.title(\"Participant 565\")\n",
    "plt.xlabel(\"All Judgments\")\n",
    "plt.legend([\"classical\",\"quantum\",\"data\"], frameon=True)\n",
    "plt.savefig(\"participant565_plot.jpg\", dpi = 500, bbox_inches=\"tight\")"
   ]
  },
  {
   "cell_type": "markdown",
   "id": "e81d42b2",
   "metadata": {},
   "source": [
    "# Participant 753"
   ]
  },
  {
   "cell_type": "code",
   "execution_count": 38,
   "id": "44124440",
   "metadata": {
    "scrolled": true
   },
   "outputs": [
    {
     "data": {
      "text/plain": [
       "array([23.91243219])"
      ]
     },
     "execution_count": 38,
     "metadata": {},
     "output_type": "execute_result"
    }
   ],
   "source": [
    "nLLS_diff_753 = CSS_nLLS[753] - QSS_nLLS[753]\n",
    "nLLS_diff_753"
   ]
  },
  {
   "cell_type": "code",
   "execution_count": 39,
   "id": "1d66eb81",
   "metadata": {
    "scrolled": false
   },
   "outputs": [
    {
     "data": {
      "text/html": [
       "<div>\n",
       "<style scoped>\n",
       "    .dataframe tbody tr th:only-of-type {\n",
       "        vertical-align: middle;\n",
       "    }\n",
       "\n",
       "    .dataframe tbody tr th {\n",
       "        vertical-align: top;\n",
       "    }\n",
       "\n",
       "    .dataframe thead th {\n",
       "        text-align: right;\n",
       "    }\n",
       "</style>\n",
       "<table border=\"1\" class=\"dataframe\">\n",
       "  <thead>\n",
       "    <tr style=\"text-align: right;\">\n",
       "      <th></th>\n",
       "      <th>values</th>\n",
       "      <th>type</th>\n",
       "    </tr>\n",
       "  </thead>\n",
       "  <tbody>\n",
       "    <tr>\n",
       "      <th>0</th>\n",
       "      <td>95.000000</td>\n",
       "      <td>judgment</td>\n",
       "    </tr>\n",
       "    <tr>\n",
       "      <th>1</th>\n",
       "      <td>60.000000</td>\n",
       "      <td>judgment</td>\n",
       "    </tr>\n",
       "    <tr>\n",
       "      <th>2</th>\n",
       "      <td>45.000000</td>\n",
       "      <td>judgment</td>\n",
       "    </tr>\n",
       "    <tr>\n",
       "      <th>3</th>\n",
       "      <td>5.000000</td>\n",
       "      <td>judgment</td>\n",
       "    </tr>\n",
       "    <tr>\n",
       "      <th>4</th>\n",
       "      <td>40.000000</td>\n",
       "      <td>judgment</td>\n",
       "    </tr>\n",
       "    <tr>\n",
       "      <th>...</th>\n",
       "      <td>...</td>\n",
       "      <td>...</td>\n",
       "    </tr>\n",
       "    <tr>\n",
       "      <th>229</th>\n",
       "      <td>25.582530</td>\n",
       "      <td>classical</td>\n",
       "    </tr>\n",
       "    <tr>\n",
       "      <th>230</th>\n",
       "      <td>85.888353</td>\n",
       "      <td>classical</td>\n",
       "    </tr>\n",
       "    <tr>\n",
       "      <th>231</th>\n",
       "      <td>50.099769</td>\n",
       "      <td>classical</td>\n",
       "    </tr>\n",
       "    <tr>\n",
       "      <th>232</th>\n",
       "      <td>65.440304</td>\n",
       "      <td>classical</td>\n",
       "    </tr>\n",
       "    <tr>\n",
       "      <th>233</th>\n",
       "      <td>73.171105</td>\n",
       "      <td>classical</td>\n",
       "    </tr>\n",
       "  </tbody>\n",
       "</table>\n",
       "<p>234 rows × 2 columns</p>\n",
       "</div>"
      ],
      "text/plain": [
       "        values       type\n",
       "0    95.000000   judgment\n",
       "1    60.000000   judgment\n",
       "2    45.000000   judgment\n",
       "3     5.000000   judgment\n",
       "4    40.000000   judgment\n",
       "..         ...        ...\n",
       "229  25.582530  classical\n",
       "230  85.888353  classical\n",
       "231  50.099769  classical\n",
       "232  65.440304  classical\n",
       "233  73.171105  classical\n",
       "\n",
       "[234 rows x 2 columns]"
      ]
     },
     "execution_count": 39,
     "metadata": {},
     "output_type": "execute_result"
    }
   ],
   "source": [
    "participant_753 = {\"values\":list(np.append(data[753,:],np.append(QSS_MS[753,:], CSS_MS[753,:]))), \n",
    "                   \"type\":list(np.append([\"judgment\"]*78,np.append([\"quantum\"]*78, [\"classical\"]*78)))}\n",
    "participant_753 = pd.DataFrame(participant_753)\n",
    "participant_753"
   ]
  },
  {
   "cell_type": "code",
   "execution_count": 40,
   "id": "4ba781b6",
   "metadata": {},
   "outputs": [
    {
     "data": {
      "image/png": "[encoded data removed]",
      "text/plain": [
       "<Figure size 444x360 with 1 Axes>"
      ]
     },
     "metadata": {
      "needs_background": "light"
     },
     "output_type": "display_data"
    }
   ],
   "source": [
    "sns.displot(participant_753, x = \"values\", hue = \"type\", kind = \"kde\")._legend.remove()\n",
    "plt.grid()\n",
    "plt.xlim(0,100)\n",
    "plt.title(\"Participant 753\")\n",
    "plt.xlabel(\"All Judgments\")\n",
    "plt.legend([\"classical\",\"quantum\",\"data\"], frameon=True)\n",
    "plt.savefig(\"participant753_plot.jpg\", dpi = 500, bbox_inches=\"tight\")"
   ]
  },
  {
   "cell_type": "markdown",
   "id": "c8145fcf",
   "metadata": {},
   "source": [
    "# Participant 958"
   ]
  },
  {
   "cell_type": "code",
   "execution_count": 41,
   "id": "18594a1e",
   "metadata": {
    "scrolled": true
   },
   "outputs": [
    {
     "data": {
      "text/plain": [
       "array([49.44971503])"
      ]
     },
     "execution_count": 41,
     "metadata": {},
     "output_type": "execute_result"
    }
   ],
   "source": [
    "nLLS_diff_958 = CSS_nLLS[958] - QSS_nLLS[958]\n",
    "nLLS_diff_958"
   ]
  },
  {
   "cell_type": "code",
   "execution_count": 42,
   "id": "2ab87bca",
   "metadata": {
    "scrolled": false
   },
   "outputs": [
    {
     "data": {
      "text/html": [
       "<div>\n",
       "<style scoped>\n",
       "    .dataframe tbody tr th:only-of-type {\n",
       "        vertical-align: middle;\n",
       "    }\n",
       "\n",
       "    .dataframe tbody tr th {\n",
       "        vertical-align: top;\n",
       "    }\n",
       "\n",
       "    .dataframe thead th {\n",
       "        text-align: right;\n",
       "    }\n",
       "</style>\n",
       "<table border=\"1\" class=\"dataframe\">\n",
       "  <thead>\n",
       "    <tr style=\"text-align: right;\">\n",
       "      <th></th>\n",
       "      <th>values</th>\n",
       "      <th>type</th>\n",
       "    </tr>\n",
       "  </thead>\n",
       "  <tbody>\n",
       "    <tr>\n",
       "      <th>0</th>\n",
       "      <td>95.000000</td>\n",
       "      <td>judgment</td>\n",
       "    </tr>\n",
       "    <tr>\n",
       "      <th>1</th>\n",
       "      <td>90.000000</td>\n",
       "      <td>judgment</td>\n",
       "    </tr>\n",
       "    <tr>\n",
       "      <th>2</th>\n",
       "      <td>45.000000</td>\n",
       "      <td>judgment</td>\n",
       "    </tr>\n",
       "    <tr>\n",
       "      <th>3</th>\n",
       "      <td>5.000000</td>\n",
       "      <td>judgment</td>\n",
       "    </tr>\n",
       "    <tr>\n",
       "      <th>4</th>\n",
       "      <td>10.000000</td>\n",
       "      <td>judgment</td>\n",
       "    </tr>\n",
       "    <tr>\n",
       "      <th>...</th>\n",
       "      <td>...</td>\n",
       "      <td>...</td>\n",
       "    </tr>\n",
       "    <tr>\n",
       "      <th>229</th>\n",
       "      <td>49.051240</td>\n",
       "      <td>classical</td>\n",
       "    </tr>\n",
       "    <tr>\n",
       "      <th>230</th>\n",
       "      <td>53.452321</td>\n",
       "      <td>classical</td>\n",
       "    </tr>\n",
       "    <tr>\n",
       "      <th>231</th>\n",
       "      <td>54.023802</td>\n",
       "      <td>classical</td>\n",
       "    </tr>\n",
       "    <tr>\n",
       "      <th>232</th>\n",
       "      <td>48.460926</td>\n",
       "      <td>classical</td>\n",
       "    </tr>\n",
       "    <tr>\n",
       "      <th>233</th>\n",
       "      <td>55.429208</td>\n",
       "      <td>classical</td>\n",
       "    </tr>\n",
       "  </tbody>\n",
       "</table>\n",
       "<p>234 rows × 2 columns</p>\n",
       "</div>"
      ],
      "text/plain": [
       "        values       type\n",
       "0    95.000000   judgment\n",
       "1    90.000000   judgment\n",
       "2    45.000000   judgment\n",
       "3     5.000000   judgment\n",
       "4    10.000000   judgment\n",
       "..         ...        ...\n",
       "229  49.051240  classical\n",
       "230  53.452321  classical\n",
       "231  54.023802  classical\n",
       "232  48.460926  classical\n",
       "233  55.429208  classical\n",
       "\n",
       "[234 rows x 2 columns]"
      ]
     },
     "execution_count": 42,
     "metadata": {},
     "output_type": "execute_result"
    }
   ],
   "source": [
    "participant_958 = {\"values\":list(np.append(data[958,:],np.append(QSS_MS[958,:], CSS_MS[958,:]))), \n",
    "                   \"type\":list(np.append([\"judgment\"]*78,np.append([\"quantum\"]*78, [\"classical\"]*78)))}\n",
    "participant_958 = pd.DataFrame(participant_958)\n",
    "participant_958"
   ]
  },
  {
   "cell_type": "code",
   "execution_count": 43,
   "id": "eb08ca66",
   "metadata": {},
   "outputs": [
    {
     "data": {
      "image/png": "[encoded data removed]",
      "text/plain": [
       "<Figure size 444x360 with 1 Axes>"
      ]
     },
     "metadata": {
      "needs_background": "light"
     },
     "output_type": "display_data"
    }
   ],
   "source": [
    "sns.displot(participant_958, x = \"values\", hue = \"type\", kind = \"kde\")._legend.remove()\n",
    "plt.grid()\n",
    "plt.xlim(0,100)\n",
    "plt.title(\"Participant 958\")\n",
    "plt.xlabel(\"All Judgments\")\n",
    "plt.legend([\"classical\",\"quantum\",\"data\"], frameon=True)\n",
    "plt.savefig(\"participant958_plot.jpg\", dpi = 500, bbox_inches=\"tight\")"
   ]
  },
  {
   "cell_type": "markdown",
   "id": "65255207",
   "metadata": {},
   "source": [
    "# Participant 1125"
   ]
  },
  {
   "cell_type": "code",
   "execution_count": 44,
   "id": "38093c7c",
   "metadata": {
    "scrolled": true
   },
   "outputs": [
    {
     "data": {
      "text/plain": [
       "array([28.1758861])"
      ]
     },
     "execution_count": 44,
     "metadata": {},
     "output_type": "execute_result"
    }
   ],
   "source": [
    "nLLS_diff_1125 = CSS_nLLS[1125] - QSS_nLLS[1125]\n",
    "nLLS_diff_1125"
   ]
  },
  {
   "cell_type": "code",
   "execution_count": 45,
   "id": "0aa5ae1f",
   "metadata": {
    "scrolled": false
   },
   "outputs": [
    {
     "data": {
      "text/html": [
       "<div>\n",
       "<style scoped>\n",
       "    .dataframe tbody tr th:only-of-type {\n",
       "        vertical-align: middle;\n",
       "    }\n",
       "\n",
       "    .dataframe tbody tr th {\n",
       "        vertical-align: top;\n",
       "    }\n",
       "\n",
       "    .dataframe thead th {\n",
       "        text-align: right;\n",
       "    }\n",
       "</style>\n",
       "<table border=\"1\" class=\"dataframe\">\n",
       "  <thead>\n",
       "    <tr style=\"text-align: right;\">\n",
       "      <th></th>\n",
       "      <th>values</th>\n",
       "      <th>type</th>\n",
       "    </tr>\n",
       "  </thead>\n",
       "  <tbody>\n",
       "    <tr>\n",
       "      <th>0</th>\n",
       "      <td>70.000000</td>\n",
       "      <td>judgment</td>\n",
       "    </tr>\n",
       "    <tr>\n",
       "      <th>1</th>\n",
       "      <td>66.000000</td>\n",
       "      <td>judgment</td>\n",
       "    </tr>\n",
       "    <tr>\n",
       "      <th>2</th>\n",
       "      <td>50.000000</td>\n",
       "      <td>judgment</td>\n",
       "    </tr>\n",
       "    <tr>\n",
       "      <th>3</th>\n",
       "      <td>28.000000</td>\n",
       "      <td>judgment</td>\n",
       "    </tr>\n",
       "    <tr>\n",
       "      <th>4</th>\n",
       "      <td>37.000000</td>\n",
       "      <td>judgment</td>\n",
       "    </tr>\n",
       "    <tr>\n",
       "      <th>...</th>\n",
       "      <td>...</td>\n",
       "      <td>...</td>\n",
       "    </tr>\n",
       "    <tr>\n",
       "      <th>229</th>\n",
       "      <td>43.138290</td>\n",
       "      <td>classical</td>\n",
       "    </tr>\n",
       "    <tr>\n",
       "      <th>230</th>\n",
       "      <td>61.382219</td>\n",
       "      <td>classical</td>\n",
       "    </tr>\n",
       "    <tr>\n",
       "      <th>231</th>\n",
       "      <td>48.093515</td>\n",
       "      <td>classical</td>\n",
       "    </tr>\n",
       "    <tr>\n",
       "      <th>232</th>\n",
       "      <td>56.426994</td>\n",
       "      <td>classical</td>\n",
       "    </tr>\n",
       "    <tr>\n",
       "      <th>233</th>\n",
       "      <td>57.650105</td>\n",
       "      <td>classical</td>\n",
       "    </tr>\n",
       "  </tbody>\n",
       "</table>\n",
       "<p>234 rows × 2 columns</p>\n",
       "</div>"
      ],
      "text/plain": [
       "        values       type\n",
       "0    70.000000   judgment\n",
       "1    66.000000   judgment\n",
       "2    50.000000   judgment\n",
       "3    28.000000   judgment\n",
       "4    37.000000   judgment\n",
       "..         ...        ...\n",
       "229  43.138290  classical\n",
       "230  61.382219  classical\n",
       "231  48.093515  classical\n",
       "232  56.426994  classical\n",
       "233  57.650105  classical\n",
       "\n",
       "[234 rows x 2 columns]"
      ]
     },
     "execution_count": 45,
     "metadata": {},
     "output_type": "execute_result"
    }
   ],
   "source": [
    "participant_1125 = {\"values\":list(np.append(data[1125,:],np.append(QSS_MS[1125,:], CSS_MS[1125,:]))), \n",
    "                   \"type\":list(np.append([\"judgment\"]*78,np.append([\"quantum\"]*78, [\"classical\"]*78)))}\n",
    "participant_1125 = pd.DataFrame(participant_1125)\n",
    "participant_1125"
   ]
  },
  {
   "cell_type": "code",
   "execution_count": 46,
   "id": "be903b07",
   "metadata": {},
   "outputs": [
    {
     "data": {
      "image/png": "[encoded data removed]",
      "text/plain": [
       "<Figure size 444x360 with 1 Axes>"
      ]
     },
     "metadata": {
      "needs_background": "light"
     },
     "output_type": "display_data"
    }
   ],
   "source": [
    "sns.displot(participant_1125, x = \"values\", hue = \"type\", kind = \"kde\")._legend.remove()\n",
    "plt.grid()\n",
    "plt.xlim(0,100)\n",
    "plt.title(\"Participant 1125\")\n",
    "plt.xlabel(\"All Judgments\")\n",
    "plt.legend([\"classical\",\"quantum\",\"data\"], frameon=True)\n",
    "plt.savefig(\"participant1125_plot.jpg\", dpi = 500, bbox_inches=\"tight\")"
   ]
  }
 ],
 "metadata": {
  "kernelspec": {
   "display_name": "Python 3",
   "language": "python",
   "name": "python3"
  },
  "language_info": {
   "codemirror_mode": {
    "name": "ipython",
    "version": 3
   },
   "file_extension": ".py",
   "mimetype": "text/x-python",
   "name": "python",
   "nbconvert_exporter": "python",
   "pygments_lexer": "ipython3",
   "version": "3.8.8"
  }
 },
 "nbformat": 4,
 "nbformat_minor": 5
}
